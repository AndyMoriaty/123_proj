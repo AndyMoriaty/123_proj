{
 "cells": [
  {
   "cell_type": "code",
   "execution_count": 24,
   "metadata": {},
   "outputs": [],
   "source": [
    "from heapq import heappush, heappop\n",
    "\n",
    "num_len = 2\n",
    "\n",
    "def GetFreqE(file):\n",
    "    freq_dict = {}\n",
    "    for i in file:\n",
    "        if i in freq_dict.keys():\n",
    "            freq_dict[i] += 1\n",
    "        else:\n",
    "            freq_dict[i] = 1\n",
    "    return freq_dict\n",
    "\n",
    "def HuffmanEncode(freq_dict):\n",
    "    flip2huff = []\n",
    "    result = {}\n",
    "    for i in freq_dict:\n",
    "        heappush(flip2huff, (freq_dict[i], [i]))\n",
    "        result[i] = \"\"\n",
    "    while len(flip2huff) > 1:\n",
    "        s1 = heappop(flip2huff)\n",
    "        s2 = heappop(flip2huff)\n",
    "        sback = (s1[0] + s2[0], [])\n",
    "        for i in s1[1]:\n",
    "            result[i] = '0' + result[i]\n",
    "            sback[1].append(i)\n",
    "        for i in s2[1]:\n",
    "            result[i] = '1' + result[i]\n",
    "            sback[1].append(i)\n",
    "        heappush(flip2huff, sback)\n",
    "    return result\n",
    "\n",
    "def FileEncode(file, dict, freq_dict):\n",
    "    for i in freq_dict.keys():\n",
    "        freq_dict[i] = toBin(freq_dict[i])\n",
    "    k = ['0'*num_len for _ in range(128)]\n",
    "    print(k)\n",
    "    for i in freq_dict.keys():\n",
    "        print(ord(i))\n",
    "        k[ord(i)] = freq_dict[i]\n",
    "    print(k)\n",
    "    result = \"\"\n",
    "    for i in k:\n",
    "        result += i\n",
    "    for i in file:\n",
    "        result += dict[i]\n",
    "    return result\n",
    "\n",
    "def FileDecode(file,dict):\n",
    "    a = dict.values()\n",
    "    new_dict = {v: k for k, v in dict.items()}\n",
    "    result = \"\"\n",
    "    tmp = \"\"\n",
    "    for i in file:\n",
    "        tmp += i\n",
    "        if tmp in a:\n",
    "            result += new_dict[tmp]\n",
    "            tmp = \"\"\n",
    "    return result"
   ]
  },
  {
   "cell_type": "code",
   "execution_count": 25,
   "metadata": {},
   "outputs": [
    {
     "data": {
      "text/plain": [
       "128"
      ]
     },
     "execution_count": 25,
     "metadata": {},
     "output_type": "execute_result"
    }
   ],
   "source": [
    "2**8//2"
   ]
  },
  {
   "cell_type": "code",
   "execution_count": 26,
   "metadata": {},
   "outputs": [
    {
     "name": "stdout",
     "output_type": "stream",
     "text": [
      "{'a': 3, 'b': 2, 'c': 1}\n"
     ]
    }
   ],
   "source": [
    "file=['a','a','a','b','b','c']\n",
    "freq_dict=GetFreqE(file)\n",
    "print(freq_dict)"
   ]
  },
  {
   "cell_type": "code",
   "execution_count": 27,
   "metadata": {},
   "outputs": [
    {
     "name": "stdout",
     "output_type": "stream",
     "text": [
      "{'a': '0', 'b': '11', 'c': '10'}\n"
     ]
    }
   ],
   "source": [
    "dict1=HuffmanEncode(freq_dict)\n",
    "print(dict1)"
   ]
  },
  {
   "cell_type": "code",
   "execution_count": 28,
   "metadata": {},
   "outputs": [
    {
     "name": "stdout",
     "output_type": "stream",
     "text": [
      "['00', '00', '00', '00', '00', '00', '00', '00', '00', '00', '00', '00', '00', '00', '00', '00', '00', '00', '00', '00', '00', '00', '00', '00', '00', '00', '00', '00', '00', '00', '00', '00', '00', '00', '00', '00', '00', '00', '00', '00', '00', '00', '00', '00', '00', '00', '00', '00', '00', '00', '00', '00', '00', '00', '00', '00', '00', '00', '00', '00', '00', '00', '00', '00', '00', '00', '00', '00', '00', '00', '00', '00', '00', '00', '00', '00', '00', '00', '00', '00', '00', '00', '00', '00', '00', '00', '00', '00', '00', '00', '00', '00', '00', '00', '00', '00', '00', '00', '00', '00', '00', '00', '00', '00', '00', '00', '00', '00', '00', '00', '00', '00', '00', '00', '00', '00', '00', '00', '00', '00', '00', '00', '00', '00', '00', '00', '00', '00']\n",
      "97\n",
      "98\n",
      "99\n",
      "['00', '00', '00', '00', '00', '00', '00', '00', '00', '00', '00', '00', '00', '00', '00', '00', '00', '00', '00', '00', '00', '00', '00', '00', '00', '00', '00', '00', '00', '00', '00', '00', '00', '00', '00', '00', '00', '00', '00', '00', '00', '00', '00', '00', '00', '00', '00', '00', '00', '00', '00', '00', '00', '00', '00', '00', '00', '00', '00', '00', '00', '00', '00', '00', '00', '00', '00', '00', '00', '00', '00', '00', '00', '00', '00', '00', '00', '00', '00', '00', '00', '00', '00', '00', '00', '00', '00', '00', '00', '00', '00', '00', '00', '00', '00', '00', '00', '11', '10', '01', '00', '00', '00', '00', '00', '00', '00', '00', '00', '00', '00', '00', '00', '00', '00', '00', '00', '00', '00', '00', '00', '00', '00', '00', '00', '00', '00', '00']\n",
      "encode 0000000000000000000000000000000000000000000000000000000000000000000000000000000000000000000000000000000000000000000000000000000000000000000000000000000000000000000000000000000000000000000000000011100100000000000000000000000000000000000000000000000000000000000111110\n"
     ]
    }
   ],
   "source": [
    "encode = FileEncode(file, dict1, freq_dict)\n",
    "print('encode',encode)"
   ]
  },
  {
   "cell_type": "code",
   "execution_count": 29,
   "metadata": {},
   "outputs": [
    {
     "data": {
      "text/plain": [
       "'aaaaaaaaaaaaaaaaaaaaaaaaaaaaaaaaaaaaaaaaaaaaaaaaaaaaaaaaaaaaaaaaaaaaaaaaaaaaaaaaaaaaaaaaaaaaaaaaaaaaaaaaaaaaaaaaaaaaaaaaaaaaaaaaaaaaaaaaaaaaaaaaaaaaaaaaaaaaaaaaaaaaaaaaaaaaaaaaaaaaaaaaaaaaaaaaaabcacaaaaaaaaaaaaaaaaaaaaaaaaaaaaaaaaaaaaaaaaaaaaaaaaaaaaaaaaaabbc'"
      ]
     },
     "execution_count": 29,
     "metadata": {},
     "output_type": "execute_result"
    }
   ],
   "source": [
    "decode = FileDecode(encode, dict1)\n",
    "decode"
   ]
  },
  {
   "cell_type": "code",
   "execution_count": null,
   "metadata": {},
   "outputs": [],
   "source": []
  },
  {
   "cell_type": "code",
   "execution_count": null,
   "metadata": {},
   "outputs": [],
   "source": []
  },
  {
   "cell_type": "code",
   "execution_count": null,
   "metadata": {},
   "outputs": [],
   "source": []
  },
  {
   "cell_type": "code",
   "execution_count": 71,
   "metadata": {},
   "outputs": [],
   "source": [
    "file=['a','a','a','b','b','c']\n",
    "freq_dict=GetFreqE(file)"
   ]
  },
  {
   "cell_type": "code",
   "execution_count": 72,
   "metadata": {},
   "outputs": [
    {
     "data": {
      "text/plain": [
       "{'a': 3, 'b': 2, 'c': 1}"
      ]
     },
     "execution_count": 72,
     "metadata": {},
     "output_type": "execute_result"
    }
   ],
   "source": [
    "freq_dict"
   ]
  },
  {
   "cell_type": "code",
   "execution_count": 73,
   "metadata": {},
   "outputs": [
    {
     "name": "stdout",
     "output_type": "stream",
     "text": [
      "i a\n",
      "f 3 ['a']\n",
      "r {'a': ''}\n",
      "i b\n",
      "f 2 ['b']\n",
      "r {'a': '', 'b': ''}\n",
      "i c\n",
      "f 1 ['c']\n",
      "r {'a': '', 'b': '', 'c': ''}\n",
      "(1, ['c']) (2, ['b'])\n",
      "sb (3, [])\n",
      "(3, ['c'])\n",
      "r {'a': '', 'b': '', 'c': '0'}\n",
      "(3, ['c', 'b'])\n",
      "r {'a': '', 'b': '1', 'c': '0'}\n",
      "(3, ['a']) (3, ['c', 'b'])\n",
      "sb (6, [])\n",
      "(6, ['a'])\n",
      "r {'a': '0', 'b': '1', 'c': '0'}\n",
      "(6, ['a', 'c'])\n",
      "r {'a': '0', 'b': '1', 'c': '10'}\n",
      "(6, ['a', 'c', 'b'])\n",
      "r {'a': '0', 'b': '11', 'c': '10'}\n"
     ]
    }
   ],
   "source": [
    "\n",
    "\n",
    "flip2huff = []\n",
    "result = {}\n",
    "for i in freq_dict:\n",
    "    print('i',i)\n",
    "    print('f',freq_dict[i], [i])\n",
    "    heappush(flip2huff, (freq_dict[i], [i]))\n",
    "    result[i] = \"\"\n",
    "    print('r',result)\n",
    "while len(flip2huff) > 1:\n",
    "    s1 = heappop(flip2huff)\n",
    "    s2 = heappop(flip2huff)\n",
    "    print(s1,s2)\n",
    "    sback = (s1[0] + s2[0], [])\n",
    "    print('sb',sback)\n",
    "    for i in s1[1]:\n",
    "        result[i] = '0' + result[i]\n",
    "        sback[1].append(i)\n",
    "        print(sback)\n",
    "        print('r',result)\n",
    "    for i in s2[1]:\n",
    "        result[i] = '1' + result[i]\n",
    "        sback[1].append(i)\n",
    "        print(sback)\n",
    "        print('r',result)\n",
    "    heappush(flip2huff, sback)\n",
    "# return result"
   ]
  },
  {
   "cell_type": "code",
   "execution_count": null,
   "metadata": {},
   "outputs": [],
   "source": []
  },
  {
   "cell_type": "code",
   "execution_count": null,
   "metadata": {},
   "outputs": [],
   "source": []
  },
  {
   "cell_type": "code",
   "execution_count": null,
   "metadata": {},
   "outputs": [],
   "source": []
  },
  {
   "cell_type": "code",
   "execution_count": null,
   "metadata": {},
   "outputs": [],
   "source": []
  },
  {
   "cell_type": "code",
   "execution_count": null,
   "metadata": {},
   "outputs": [],
   "source": []
  },
  {
   "cell_type": "code",
   "execution_count": null,
   "metadata": {},
   "outputs": [],
   "source": []
  },
  {
   "cell_type": "code",
   "execution_count": 7,
   "metadata": {},
   "outputs": [],
   "source": [
    "from heapq import heappush, heappop\n",
    "import os\n",
    "import time\n",
    "\n",
    "num_len = 8\n",
    "\n",
    "def GetFreqE(file):\n",
    "    freq_dict = {}\n",
    "    for i in file:\n",
    "        if i in freq_dict.keys():\n",
    "            freq_dict[i] += 1\n",
    "        else:\n",
    "            freq_dict[i] = 1\n",
    "    return freq_dict\n",
    "\n",
    "def HuffmanEncode(freq_dict):\n",
    "    flip2huff = []\n",
    "    result = {}\n",
    "    for i in freq_dict:\n",
    "        heappush(flip2huff, (freq_dict[i], [i]))\n",
    "        result[i] = \"\"\n",
    "    while len(flip2huff) > 1:\n",
    "        s1 = heappop(flip2huff)\n",
    "        s2 = heappop(flip2huff)\n",
    "        sback = (s1[0] + s2[0], [])\n",
    "        for i in s1[1]:\n",
    "            result[i] = '0' + result[i]\n",
    "            sback[1].append(i)\n",
    "        for i in s2[1]:\n",
    "            result[i] = '1' + result[i]\n",
    "            sback[1].append(i)\n",
    "        heappush(flip2huff, sback)\n",
    "    return result\n",
    "\n",
    "def toBin(a):\n",
    "    result = \"\"\n",
    "    while a>0:\n",
    "        result = str(a%2)+result\n",
    "        a = a//2\n",
    "    result = '0'*(num_len-len(result))+result\n",
    "    return result\n",
    "\n",
    "def FileEncode(file, dict, freq_dict):\n",
    "    for i in freq_dict.keys():\n",
    "        freq_dict[i] = toBin(freq_dict[i])\n",
    "    k = ['0'*num_len for _ in range(128)]\n",
    "    for i in freq_dict.keys():\n",
    "        k[ord(i)] = freq_dict[i]\n",
    "    result = \"\"\n",
    "    for i in k:\n",
    "        result += i\n",
    "    for i in file:\n",
    "        result += dict[i]\n",
    "    return result\n",
    "def toDec(a):\n",
    "    result = 0\n",
    "    for i in range(len(a)):\n",
    "        result += 2**(len(a)-i-1)*int(a[i])\n",
    "    return result\n",
    "\n",
    "def GetFreqD(freq_dict):\n",
    "    k = {}\n",
    "    for i in range(128):\n",
    "        if (freq_dict[num_len*i:num_len*i+num_len]!='0'*num_len):\n",
    "            k[chr(i)] = toDec(freq_dict[num_len*i:num_len*i+num_len])\n",
    "    # print(k)\n",
    "    return k\n",
    "\n",
    "def FileDecode(file,dict):\n",
    "    a = dict.values()\n",
    "    new_dict = {v: k for k, v in dict.items()}\n",
    "    result = \"\"\n",
    "    tmp = \"\"\n",
    "    for i in file:\n",
    "        tmp += i\n",
    "        if tmp in a:\n",
    "            result += new_dict[tmp]\n",
    "            tmp = \"\"\n",
    "    return result\n",
    "\n",
    "def getHuffFile():\n",
    "    f = open(\"file.txt\", \"r\")\n",
    "    file = f.read()\n",
    "    f.close()\n",
    "    freq_dict = GetFreqE(file)\n",
    "    dict1 = HuffmanEncode(freq_dict)\n",
    "    encode = FileEncode(file, dict1, freq_dict)\n",
    "    f = open(\"INPUT.txt\", \"w\")\n",
    "    f.write(encode)\n",
    "    f.close()\n",
    "\n",
    "# def getRealFile(start_time):\n",
    "#     if os.path.exists(\"OUTPUT.txt\"):\n",
    "#         f = open(\"OUTPUT.txt\", \"r\")\n",
    "#         file = f.read()\n",
    "#         f.close()\n",
    "#         freq_dict = file[0:128 * num_len]\n",
    "#         file = file[128 * num_len:]\n",
    "#         freq_dict = GetFreqD(freq_dict)\n",
    "#         dict = HuffmanEncode(freq_dict)\n",
    "#         decode = FileDecode(file, dict)\n",
    "#         print(decode)\n",
    "#         end_time = time.time()\n",
    "#         print('\\nEnd at:',end_time)\n",
    "#         print('Total time:', (end_time - start_time),'s')\n",
    "#         f = open(\"SOURCE.txt\", \"w\")\n",
    "#         f.write(decode)\n",
    "#         f.close()\n",
    "\n",
    "# if __name__ == '__main__':\n",
    "#     getRealFile()"
   ]
  },
  {
   "cell_type": "code",
   "execution_count": null,
   "metadata": {},
   "outputs": [],
   "source": []
  }
 ],
 "metadata": {
  "kernelspec": {
   "display_name": "Python 3",
   "language": "python",
   "name": "python3"
  },
  "language_info": {
   "codemirror_mode": {
    "name": "ipython",
    "version": 3
   },
   "file_extension": ".py",
   "mimetype": "text/x-python",
   "name": "python",
   "nbconvert_exporter": "python",
   "pygments_lexer": "ipython3",
   "version": "3.6.5"
  }
 },
 "nbformat": 4,
 "nbformat_minor": 2
}
